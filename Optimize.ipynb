{
 "cells": [
  {
   "cell_type": "markdown",
   "source": [
    "## 1. MFCC"
   ],
   "metadata": {
    "collapsed": false
   }
  },
  {
   "cell_type": "code",
   "execution_count": 3,
   "outputs": [],
   "source": [
    "import warnings\n",
    "\n",
    "import librosa\n",
    "import numpy as np\n",
    "import scipy.signal\n",
    "\n",
    "from inaSpeechSegmenter.sidekit_mfcc import read_wav\n",
    "from numba import njit\n",
    "\n",
    "\n",
    "warnings.filterwarnings('ignore', message='divide by zero encountered in log', category=RuntimeWarning)\n",
    "\n",
    "sig, read_framerate, sample_width = read_wav('VT 150hz baseline example.converted.wav')"
   ],
   "metadata": {
    "collapsed": false,
    "pycharm": {
     "name": "#%%\n"
    }
   }
  },
  {
   "cell_type": "markdown",
   "source": [
    "### 1.1 Pre-emphasis"
   ],
   "metadata": {
    "collapsed": false
   }
  },
  {
   "cell_type": "code",
   "execution_count": 59,
   "outputs": [],
   "source": [
    "from numba import float32\n",
    "\n",
    "\n",
    "@njit()\n",
    "def pre_emphasis(input_sig: float32[:], pre: float32) -> float32[:]:\n",
    "    \"\"\"Pre-emphasis of an audio signal.\n",
    "    :param input_sig: the input vector of signal to pre emphasize\n",
    "    :param pre: value that defines the pre-emphasis filter.\n",
    "    \"\"\"\n",
    "    output_sig = input_sig.copy()\n",
    "    for i in range(len(input_sig) - 1):\n",
    "        output_sig[i + 1] -= input_sig[i] * pre\n",
    "\n",
    "    return output_sig"
   ],
   "metadata": {
    "collapsed": false,
    "pycharm": {
     "name": "#%%\n"
    }
   }
  },
  {
   "cell_type": "code",
   "execution_count": 62,
   "outputs": [
    {
     "name": "stdout",
     "output_type": "stream",
     "text": [
      "CPU times: user 1.69 ms, sys: 363 µs, total: 2.05 ms\n",
      "Wall time: 2.82 ms\n"
     ]
    }
   ],
   "source": [
    "%time _ = pre_emphasis(sig, 0.97)"
   ],
   "metadata": {
    "collapsed": false,
    "pycharm": {
     "name": "#%%\n"
    }
   }
  },
  {
   "cell_type": "markdown",
   "source": [],
   "metadata": {
    "collapsed": false
   }
  },
  {
   "cell_type": "code",
   "execution_count": 65,
   "metadata": {
    "collapsed": true
   },
   "outputs": [
    {
     "data": {
      "text/plain": "array([[-27.783958, -28.875742, -27.59585 , ..., -22.183365, -21.926704,\n        -21.66598 ],\n       [-20.239338, -21.617071, -19.956205, ..., -15.973019, -15.646971,\n        -15.546377],\n       [-17.183352, -17.388645, -18.993906, ..., -14.162017, -14.242383,\n        -14.167353],\n       ...,\n       [-21.263563, -21.953535, -22.782087, ..., -17.215765, -16.623173,\n        -17.11898 ],\n       [-34.86673 , -34.941814, -34.066074, ..., -27.91287 , -27.821241,\n        -27.738558],\n       [      -inf,       -inf,       -inf, ...,       -inf,       -inf,\n              -inf]], dtype=float32)"
     },
     "execution_count": 65,
     "metadata": {},
     "output_type": "execute_result"
    }
   ],
   "source": [
    "from inaSpeechSegmenter import sidekit_mfcc\n",
    "\n",
    "\n",
    "_, loge, _, mspec = sidekit_mfcc.mfcc(sig.astype(np.float32), get_mspec=True)\n",
    "\n",
    "mspec"
   ]
  },
  {
   "cell_type": "code",
   "execution_count": 66,
   "outputs": [
    {
     "name": "stdout",
     "output_type": "stream",
     "text": [
      "CPU times: user 208 ms, sys: 296 ms, total: 504 ms\n",
      "Wall time: 113 ms\n"
     ]
    }
   ],
   "source": [
    "%time _ = sidekit_mfcc.mfcc(sig.astype(np.float32), get_mspec=True)"
   ],
   "metadata": {
    "collapsed": false,
    "pycharm": {
     "name": "#%%\n"
    }
   }
  },
  {
   "cell_type": "code",
   "execution_count": null,
   "outputs": [],
   "source": [],
   "metadata": {
    "collapsed": false,
    "pycharm": {
     "name": "#%%\n"
    }
   }
  },
  {
   "cell_type": "code",
   "execution_count": 52,
   "outputs": [
    {
     "data": {
      "text/plain": "array([[2.5048321e-11, 6.1607830e-11, 4.2541376e-10, ..., 3.0197691e-09,\n        1.7688846e-09, 8.7659896e-10],\n       [5.5596672e-07, 1.0201875e-06, 2.9036614e-06, ..., 2.7829384e-07,\n        1.2000672e-07, 7.1218672e-08],\n       [7.8948251e-05, 5.5227672e-05, 4.6898822e-05, ..., 1.4559896e-07,\n        7.6278617e-08, 4.9978253e-09],\n       ...,\n       [2.0598622e-05, 1.9185214e-05, 1.5901693e-05, ..., 4.4386192e-07,\n        4.0143576e-07, 3.8744446e-07],\n       [1.1237545e-11, 1.1085248e-11, 1.0639377e-11, ..., 3.3479929e-12,\n        2.9027568e-12, 2.7506764e-12],\n       [0.0000000e+00, 0.0000000e+00, 0.0000000e+00, ..., 0.0000000e+00,\n        0.0000000e+00, 0.0000000e+00]], dtype=float32)"
     },
     "execution_count": 52,
     "metadata": {},
     "output_type": "execute_result"
    }
   ],
   "source": [
    "import tensorflow as tf\n",
    "import tensorflow_io as tfio\n",
    "\n",
    "sr = 16000\n",
    "window_length = 0.025 * sr\n",
    "step = 0.01 * sr\n",
    "prefac = 0.97\n",
    "\n",
    "# spec = tf.math.abs(tf.signal.stft(pre_emphasis(sig, 0.97), frame_length=int(window_length), frame_step=int(step)))\n",
    "spec = tf.math.abs(tf.signal.stft(sig, frame_length=int(window_length), frame_step=int(step)))\n",
    "spec.numpy() ** 2"
   ],
   "metadata": {
    "collapsed": false,
    "pycharm": {
     "name": "#%%\n"
    }
   }
  },
  {
   "cell_type": "code",
   "execution_count": 83,
   "outputs": [
    {
     "name": "stdout",
     "output_type": "stream",
     "text": [
      "CPU times: user 13.8 ms, sys: 6.85 ms, total: 20.6 ms\n",
      "Wall time: 17.6 ms\n"
     ]
    }
   ],
   "source": [
    "%time _ = tf.math.abs(tf.signal.stft(sig, frame_length=int(window_length), frame_step=int(step)))"
   ],
   "metadata": {
    "collapsed": false,
    "pycharm": {
     "name": "#%%\n"
    }
   }
  },
  {
   "cell_type": "code",
   "execution_count": 23,
   "outputs": [],
   "source": [
    "from numba import jit\n",
    "from inaSpeechSegmenter.sidekit_mfcc import framing\n",
    "\n",
    "\n",
    "def power_spectrum(input_sig, fs=8000, win_time=0.025, shift=0.01, prefac=0.97):\n",
    "    \"\"\"\n",
    "    Compute the power spectrum of the signal.\n",
    "    \"\"\"\n",
    "    window_length = int(round(win_time * fs))\n",
    "    overlap = window_length - int(shift * fs)\n",
    "    framed = framing(input_sig, window_length, win_shift=window_length - overlap).copy()\n",
    "    # Pre-emphasis filtering is applied after framing to be consistent with stream processing\n",
    "    # framed = pre_emphasis(framed, prefac)\n",
    "    l = framed.shape[0]\n",
    "    n_fft = 2 ** int(np.ceil(np.log2(window_length)))\n",
    "    # Windowing has been changed to hanning which is supposed to have less noisy sidelobes\n",
    "    # ham = numpy.hamming(window_length)\n",
    "    window = np.hanning(window_length)\n",
    "\n",
    "    spec = np.ones((l, int(n_fft / 2) + 1), dtype=np.float32)\n",
    "    log_energy = np.log((framed ** 2).sum(axis=1))\n",
    "    dec = 500000\n",
    "    start = 0\n",
    "    stop = min(dec, l)\n",
    "    while start < l:\n",
    "        ahan = framed[start:stop, :] * window\n",
    "        mag = np.abs(np.fft.rfft(ahan, n_fft, axis=-1))\n",
    "        spec[start:stop, :] = mag\n",
    "        start = stop\n",
    "        stop = min(stop + dec, l)\n",
    "\n",
    "    return spec ** 2, log_energy\n"
   ],
   "metadata": {
    "collapsed": false,
    "pycharm": {
     "name": "#%%\n"
    }
   }
  },
  {
   "cell_type": "code",
   "execution_count": 29,
   "outputs": [
    {
     "data": {
      "text/plain": "array([[5.77967680e-15, 8.01227167e-14, 8.17671018e-13, ...,\n        1.12401928e-08, 6.41681419e-09, 3.07041814e-09],\n       [8.15631007e-10, 1.69756842e-09, 7.47028572e-09, ...,\n        1.07176049e-06, 4.69670454e-07, 2.78265759e-07],\n       [1.17427064e-07, 1.01974564e-07, 1.12832915e-07, ...,\n        5.63141839e-07, 2.89370234e-07, 1.70949672e-08],\n       ...,\n       [1.03543862e-09, 2.73064660e-09, 7.21970306e-09, ...,\n        1.76567232e-06, 1.59864840e-06, 1.54331894e-06],\n       [1.94653186e-14, 1.98259276e-14, 2.07852398e-14, ...,\n        1.34547521e-11, 1.15527631e-11, 1.09030892e-11],\n       [0.00000000e+00, 0.00000000e+00, 0.00000000e+00, ...,\n        0.00000000e+00, 0.00000000e+00, 0.00000000e+00]], dtype=float32)"
     },
     "execution_count": 29,
     "metadata": {},
     "output_type": "execute_result"
    }
   ],
   "source": [
    "# spec, loge = power_spectrum(pre_emphasis(sig, 0.97), fs=16000)\n",
    "spec, loge = power_spectrum(pre_emphasis(sig, 0.97), fs=16000)\n",
    "spec\n",
    "# np.linalg.norm(spec) - np.linalg.norm(spec2.numpy() ** 2)"
   ],
   "metadata": {
    "collapsed": false,
    "pycharm": {
     "name": "#%%\n"
    }
   }
  },
  {
   "cell_type": "code",
   "execution_count": 71,
   "outputs": [
    {
     "data": {
      "text/plain": "array([[9.21060055e-05, 1.06944717e-04, 1.05446168e-04, ...,\n        1.37174517e-04, 1.80683186e-04, 1.81996787e-04],\n       [1.75047235e-03, 1.30912091e-03, 1.46864564e-03, ...,\n        4.91781509e-04, 2.97301536e-04, 1.02613179e-04],\n       [1.10664070e-02, 1.15234870e-02, 1.16806505e-02, ...,\n        3.03659879e-04, 4.23202815e-04, 3.33288976e-04],\n       ...,\n       [1.62179377e-02, 1.48036405e-02, 1.19423326e-02, ...,\n        1.27195485e-03, 1.51321420e-03, 1.69277168e-03],\n       [6.20754436e-04, 5.95139980e-04, 5.46903640e-04, ...,\n        1.39128053e-04, 1.13545604e-04, 1.05756699e-04],\n       [0.00000000e+00, 0.00000000e+00, 0.00000000e+00, ...,\n        0.00000000e+00, 0.00000000e+00, 0.00000000e+00]], dtype=float32)"
     },
     "execution_count": 71,
     "metadata": {},
     "output_type": "execute_result"
    }
   ],
   "source": [
    "np.abs(librosa.stft(sig, n_fft=512, hop_length=int(step), win_length=int(window_length), center=False).T)"
   ],
   "metadata": {
    "collapsed": false,
    "pycharm": {
     "name": "#%%\n"
    }
   }
  },
  {
   "cell_type": "code",
   "execution_count": 79,
   "outputs": [
    {
     "data": {
      "text/plain": "array([[0.0000000e+00, 0.0000000e+00, 0.0000000e+00, ..., 0.0000000e+00,\n        0.0000000e+00, 0.0000000e+00],\n       [3.5942190e-07, 4.0613733e-07, 2.9541232e-07, ..., 4.9127698e-07,\n        6.5347223e-07, 6.4656780e-07],\n       [2.6849399e-05, 1.8837529e-05, 1.7056307e-05, ..., 1.9736924e-06,\n        1.0564380e-06, 1.1808006e-07],\n       ...,\n       [5.7505876e-08, 6.1045306e-08, 6.9954169e-08, ..., 4.2406750e-08,\n        2.8164308e-08, 2.0811203e-08],\n       [0.0000000e+00, 0.0000000e+00, 0.0000000e+00, ..., 0.0000000e+00,\n        0.0000000e+00, 0.0000000e+00],\n       [0.0000000e+00, 0.0000000e+00, 0.0000000e+00, ..., 0.0000000e+00,\n        0.0000000e+00, 0.0000000e+00]], dtype=float32)"
     },
     "execution_count": 79,
     "metadata": {},
     "output_type": "execute_result"
    }
   ],
   "source": [
    "import scipy\n",
    "\n",
    "_, _, spec3 = scipy.signal.stft(sig, fs=sr, nfft=512, padded=False, nperseg=window_length, noverlap=step)\n",
    "np.abs(spec3.T)"
   ],
   "metadata": {
    "collapsed": false,
    "pycharm": {
     "name": "#%%\n"
    }
   }
  },
  {
   "cell_type": "code",
   "execution_count": 18,
   "outputs": [
    {
     "name": "stderr",
     "output_type": "stream",
     "text": [
      "<string>:1: DeprecationWarning: elementwise comparison failed; this will raise an error in the future.\n",
      "<string>:1: DeprecationWarning: elementwise comparison failed; this will raise an error in the future.\n"
     ]
    },
    {
     "ename": "KeyboardInterrupt",
     "evalue": "",
     "output_type": "error",
     "traceback": [
      "\u001B[0;31m---------------------------------------------------------------------------\u001B[0m",
      "\u001B[0;31mKeyboardInterrupt\u001B[0m                         Traceback (most recent call last)",
      "Input \u001B[0;32mIn [18]\u001B[0m, in \u001B[0;36m<cell line: 1>\u001B[0;34m()\u001B[0m\n\u001B[0;32m----> 1\u001B[0m np\u001B[38;5;241m.\u001B[39marray_equal(\u001B[43mpre_emphasis\u001B[49m\u001B[43m(\u001B[49m\u001B[43msig\u001B[49m\u001B[43m,\u001B[49m\u001B[43m \u001B[49m\u001B[38;5;241;43m0.97\u001B[39;49m\u001B[43m)\u001B[49m, (sig[\u001B[38;5;241m1\u001B[39m:] \u001B[38;5;241m-\u001B[39m \u001B[38;5;241m0.97\u001B[39m \u001B[38;5;241m*\u001B[39m sig[:\u001B[38;5;241m-\u001B[39m\u001B[38;5;241m1\u001B[39m]))\n",
      "Input \u001B[0;32mIn [17]\u001B[0m, in \u001B[0;36mpre_emphasis\u001B[0;34m(input_sig, pre)\u001B[0m\n\u001B[1;32m      2\u001B[0m \u001B[38;5;124;03m\"\"\"Pre-emphasis of an audio signal.\u001B[39;00m\n\u001B[1;32m      3\u001B[0m \u001B[38;5;124;03m:param input_sig: the input vector of signal to pre emphasize\u001B[39;00m\n\u001B[1;32m      4\u001B[0m \u001B[38;5;124;03m:param pre: value that defines the pre-emphasis filter.\u001B[39;00m\n\u001B[1;32m      5\u001B[0m \u001B[38;5;124;03m\"\"\"\u001B[39;00m\n\u001B[1;32m      6\u001B[0m \u001B[38;5;28;01mif\u001B[39;00m input_sig\u001B[38;5;241m.\u001B[39mndim \u001B[38;5;241m==\u001B[39m \u001B[38;5;241m1\u001B[39m:\n\u001B[0;32m----> 7\u001B[0m     \u001B[38;5;28;01mreturn\u001B[39;00m (\u001B[43minput_sig\u001B[49m \u001B[38;5;241m-\u001B[39m np\u001B[38;5;241m.\u001B[39mc_[input_sig[np\u001B[38;5;241m.\u001B[39mnewaxis, :][\u001B[38;5;241m.\u001B[39m\u001B[38;5;241m.\u001B[39m\u001B[38;5;241m.\u001B[39m, :\u001B[38;5;241m1\u001B[39m],\n\u001B[1;32m      8\u001B[0m                                  input_sig[np\u001B[38;5;241m.\u001B[39mnewaxis, :][\u001B[38;5;241m.\u001B[39m\u001B[38;5;241m.\u001B[39m\u001B[38;5;241m.\u001B[39m, :\u001B[38;5;241m-\u001B[39m\u001B[38;5;241m1\u001B[39m]]\u001B[38;5;241m.\u001B[39msqueeze() \u001B[38;5;241m*\u001B[39m pre)\n\u001B[1;32m      9\u001B[0m \u001B[38;5;28;01melse\u001B[39;00m:\n\u001B[1;32m     10\u001B[0m     \u001B[38;5;28;01mreturn\u001B[39;00m input_sig \u001B[38;5;241m-\u001B[39m np\u001B[38;5;241m.\u001B[39mc_[input_sig[\u001B[38;5;241m.\u001B[39m\u001B[38;5;241m.\u001B[39m\u001B[38;5;241m.\u001B[39m, :\u001B[38;5;241m1\u001B[39m], input_sig[\u001B[38;5;241m.\u001B[39m\u001B[38;5;241m.\u001B[39m\u001B[38;5;241m.\u001B[39m, :\u001B[38;5;241m-\u001B[39m\u001B[38;5;241m1\u001B[39m]] \u001B[38;5;241m*\u001B[39m pre\n",
      "Input \u001B[0;32mIn [17]\u001B[0m, in \u001B[0;36mpre_emphasis\u001B[0;34m(input_sig, pre)\u001B[0m\n\u001B[1;32m      2\u001B[0m \u001B[38;5;124;03m\"\"\"Pre-emphasis of an audio signal.\u001B[39;00m\n\u001B[1;32m      3\u001B[0m \u001B[38;5;124;03m:param input_sig: the input vector of signal to pre emphasize\u001B[39;00m\n\u001B[1;32m      4\u001B[0m \u001B[38;5;124;03m:param pre: value that defines the pre-emphasis filter.\u001B[39;00m\n\u001B[1;32m      5\u001B[0m \u001B[38;5;124;03m\"\"\"\u001B[39;00m\n\u001B[1;32m      6\u001B[0m \u001B[38;5;28;01mif\u001B[39;00m input_sig\u001B[38;5;241m.\u001B[39mndim \u001B[38;5;241m==\u001B[39m \u001B[38;5;241m1\u001B[39m:\n\u001B[0;32m----> 7\u001B[0m     \u001B[38;5;28;01mreturn\u001B[39;00m (\u001B[43minput_sig\u001B[49m \u001B[38;5;241m-\u001B[39m np\u001B[38;5;241m.\u001B[39mc_[input_sig[np\u001B[38;5;241m.\u001B[39mnewaxis, :][\u001B[38;5;241m.\u001B[39m\u001B[38;5;241m.\u001B[39m\u001B[38;5;241m.\u001B[39m, :\u001B[38;5;241m1\u001B[39m],\n\u001B[1;32m      8\u001B[0m                                  input_sig[np\u001B[38;5;241m.\u001B[39mnewaxis, :][\u001B[38;5;241m.\u001B[39m\u001B[38;5;241m.\u001B[39m\u001B[38;5;241m.\u001B[39m, :\u001B[38;5;241m-\u001B[39m\u001B[38;5;241m1\u001B[39m]]\u001B[38;5;241m.\u001B[39msqueeze() \u001B[38;5;241m*\u001B[39m pre)\n\u001B[1;32m      9\u001B[0m \u001B[38;5;28;01melse\u001B[39;00m:\n\u001B[1;32m     10\u001B[0m     \u001B[38;5;28;01mreturn\u001B[39;00m input_sig \u001B[38;5;241m-\u001B[39m np\u001B[38;5;241m.\u001B[39mc_[input_sig[\u001B[38;5;241m.\u001B[39m\u001B[38;5;241m.\u001B[39m\u001B[38;5;241m.\u001B[39m, :\u001B[38;5;241m1\u001B[39m], input_sig[\u001B[38;5;241m.\u001B[39m\u001B[38;5;241m.\u001B[39m\u001B[38;5;241m.\u001B[39m, :\u001B[38;5;241m-\u001B[39m\u001B[38;5;241m1\u001B[39m]] \u001B[38;5;241m*\u001B[39m pre\n",
      "File \u001B[0;32m~/.local/share/JetBrains/IntelliJIdea2021.3/python/helpers/pydev/_pydevd_bundle/pydevd_frame.py:747\u001B[0m, in \u001B[0;36mPyDBFrame.trace_dispatch\u001B[0;34m(self, frame, event, arg)\u001B[0m\n\u001B[1;32m    745\u001B[0m \u001B[38;5;66;03m# if thread has a suspend flag, we suspend with a busy wait\u001B[39;00m\n\u001B[1;32m    746\u001B[0m \u001B[38;5;28;01mif\u001B[39;00m info\u001B[38;5;241m.\u001B[39mpydev_state \u001B[38;5;241m==\u001B[39m STATE_SUSPEND:\n\u001B[0;32m--> 747\u001B[0m     \u001B[38;5;28;43mself\u001B[39;49m\u001B[38;5;241;43m.\u001B[39;49m\u001B[43mdo_wait_suspend\u001B[49m\u001B[43m(\u001B[49m\u001B[43mthread\u001B[49m\u001B[43m,\u001B[49m\u001B[43m \u001B[49m\u001B[43mframe\u001B[49m\u001B[43m,\u001B[49m\u001B[43m \u001B[49m\u001B[43mevent\u001B[49m\u001B[43m,\u001B[49m\u001B[43m \u001B[49m\u001B[43marg\u001B[49m\u001B[43m)\u001B[49m\n\u001B[1;32m    748\u001B[0m     \u001B[38;5;66;03m# No need to reset frame.f_trace to keep the same trace function.\u001B[39;00m\n\u001B[1;32m    749\u001B[0m     \u001B[38;5;28;01mreturn\u001B[39;00m \u001B[38;5;28mself\u001B[39m\u001B[38;5;241m.\u001B[39mtrace_dispatch\n",
      "File \u001B[0;32m~/.local/share/JetBrains/IntelliJIdea2021.3/python/helpers/pydev/_pydevd_bundle/pydevd_frame.py:144\u001B[0m, in \u001B[0;36mPyDBFrame.do_wait_suspend\u001B[0;34m(self, *args, **kwargs)\u001B[0m\n\u001B[1;32m    143\u001B[0m \u001B[38;5;28;01mdef\u001B[39;00m \u001B[38;5;21mdo_wait_suspend\u001B[39m(\u001B[38;5;28mself\u001B[39m, \u001B[38;5;241m*\u001B[39margs, \u001B[38;5;241m*\u001B[39m\u001B[38;5;241m*\u001B[39mkwargs):\n\u001B[0;32m--> 144\u001B[0m     \u001B[38;5;28;43mself\u001B[39;49m\u001B[38;5;241;43m.\u001B[39;49m\u001B[43m_args\u001B[49m\u001B[43m[\u001B[49m\u001B[38;5;241;43m0\u001B[39;49m\u001B[43m]\u001B[49m\u001B[38;5;241;43m.\u001B[39;49m\u001B[43mdo_wait_suspend\u001B[49m\u001B[43m(\u001B[49m\u001B[38;5;241;43m*\u001B[39;49m\u001B[43margs\u001B[49m\u001B[43m,\u001B[49m\u001B[43m \u001B[49m\u001B[38;5;241;43m*\u001B[39;49m\u001B[38;5;241;43m*\u001B[39;49m\u001B[43mkwargs\u001B[49m\u001B[43m)\u001B[49m\n",
      "File \u001B[0;32m~/.local/share/JetBrains/IntelliJIdea2021.3/python/helpers/pydev/pydevd.py:1147\u001B[0m, in \u001B[0;36mPyDB.do_wait_suspend\u001B[0;34m(self, thread, frame, event, arg, send_suspend_message, is_unhandled_exception)\u001B[0m\n\u001B[1;32m   1144\u001B[0m         from_this_thread\u001B[38;5;241m.\u001B[39mappend(frame_id)\n\u001B[1;32m   1146\u001B[0m \u001B[38;5;28;01mwith\u001B[39;00m \u001B[38;5;28mself\u001B[39m\u001B[38;5;241m.\u001B[39m_threads_suspended_single_notification\u001B[38;5;241m.\u001B[39mnotify_thread_suspended(thread_id, stop_reason):\n\u001B[0;32m-> 1147\u001B[0m     \u001B[38;5;28;43mself\u001B[39;49m\u001B[38;5;241;43m.\u001B[39;49m\u001B[43m_do_wait_suspend\u001B[49m\u001B[43m(\u001B[49m\u001B[43mthread\u001B[49m\u001B[43m,\u001B[49m\u001B[43m \u001B[49m\u001B[43mframe\u001B[49m\u001B[43m,\u001B[49m\u001B[43m \u001B[49m\u001B[43mevent\u001B[49m\u001B[43m,\u001B[49m\u001B[43m \u001B[49m\u001B[43marg\u001B[49m\u001B[43m,\u001B[49m\u001B[43m \u001B[49m\u001B[43msuspend_type\u001B[49m\u001B[43m,\u001B[49m\u001B[43m \u001B[49m\u001B[43mfrom_this_thread\u001B[49m\u001B[43m)\u001B[49m\n",
      "File \u001B[0;32m~/.local/share/JetBrains/IntelliJIdea2021.3/python/helpers/pydev/pydevd.py:1162\u001B[0m, in \u001B[0;36mPyDB._do_wait_suspend\u001B[0;34m(self, thread, frame, event, arg, suspend_type, from_this_thread)\u001B[0m\n\u001B[1;32m   1159\u001B[0m             \u001B[38;5;28mself\u001B[39m\u001B[38;5;241m.\u001B[39m_call_mpl_hook()\n\u001B[1;32m   1161\u001B[0m         \u001B[38;5;28mself\u001B[39m\u001B[38;5;241m.\u001B[39mprocess_internal_commands()\n\u001B[0;32m-> 1162\u001B[0m         \u001B[43mtime\u001B[49m\u001B[38;5;241;43m.\u001B[39;49m\u001B[43msleep\u001B[49m\u001B[43m(\u001B[49m\u001B[38;5;241;43m0.01\u001B[39;49m\u001B[43m)\u001B[49m\n\u001B[1;32m   1164\u001B[0m \u001B[38;5;28mself\u001B[39m\u001B[38;5;241m.\u001B[39mcancel_async_evaluation(get_current_thread_id(thread), \u001B[38;5;28mstr\u001B[39m(\u001B[38;5;28mid\u001B[39m(frame)))\n\u001B[1;32m   1166\u001B[0m \u001B[38;5;66;03m# process any stepping instructions\u001B[39;00m\n",
      "\u001B[0;31mKeyboardInterrupt\u001B[0m: "
     ]
    }
   ],
   "source": [
    "np.array_equal(pre_emphasis(sig, 0.97), (sig[1:] - 0.97 * sig[:-1]))"
   ],
   "metadata": {
    "collapsed": false,
    "pycharm": {
     "name": "#%%\n"
    }
   }
  },
  {
   "cell_type": "code",
   "execution_count": 15,
   "outputs": [
    {
     "data": {
      "text/plain": "array([0., 0., 0., ..., 0., 0., 0.], dtype=float32)"
     },
     "execution_count": 15,
     "metadata": {},
     "output_type": "execute_result"
    }
   ],
   "source": [
    "(sig[1:] - 0.97 * sig[:-1])\n"
   ],
   "metadata": {
    "collapsed": false,
    "pycharm": {
     "name": "#%%\n"
    }
   }
  },
  {
   "cell_type": "code",
   "execution_count": 63,
   "outputs": [
    {
     "ename": "NameError",
     "evalue": "name 'sidekit_mfcc' is not defined",
     "output_type": "error",
     "traceback": [
      "\u001B[0;31m---------------------------------------------------------------------------\u001B[0m",
      "\u001B[0;31mNameError\u001B[0m                                 Traceback (most recent call last)",
      "Input \u001B[0;32mIn [63]\u001B[0m, in \u001B[0;36m<cell line: 1>\u001B[0;34m()\u001B[0m\n\u001B[0;32m----> 1\u001B[0m _, loge, _, mspec \u001B[38;5;241m=\u001B[39m \u001B[43msidekit_mfcc\u001B[49m\u001B[38;5;241m.\u001B[39mmfcc(sig\u001B[38;5;241m.\u001B[39mastype(np\u001B[38;5;241m.\u001B[39mfloat32), get_mspec\u001B[38;5;241m=\u001B[39m\u001B[38;5;28;01mTrue\u001B[39;00m)\n\u001B[1;32m      2\u001B[0m mspec\n",
      "\u001B[0;31mNameError\u001B[0m: name 'sidekit_mfcc' is not defined"
     ]
    }
   ],
   "source": [
    "\n",
    "\n",
    "_, loge, _, mspec = sidekit_mfcc.mfcc(sig.astype(np.float32), get_mspec=True)\n",
    "mspec\n"
   ],
   "metadata": {
    "collapsed": false,
    "pycharm": {
     "name": "#%%\n"
    }
   }
  },
  {
   "cell_type": "code",
   "execution_count": null,
   "outputs": [],
   "source": [],
   "metadata": {
    "collapsed": false,
    "pycharm": {
     "name": "#%%\n"
    }
   }
  }
 ],
 "metadata": {
  "kernelspec": {
   "display_name": "Python 3",
   "language": "python",
   "name": "python3"
  },
  "language_info": {
   "codemirror_mode": {
    "name": "ipython",
    "version": 2
   },
   "file_extension": ".py",
   "mimetype": "text/x-python",
   "name": "python",
   "nbconvert_exporter": "python",
   "pygments_lexer": "ipython2",
   "version": "2.7.6"
  }
 },
 "nbformat": 4,
 "nbformat_minor": 0
}